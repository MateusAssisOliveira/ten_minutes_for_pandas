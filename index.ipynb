{
 "cells": [
  {
   "cell_type": "code",
   "execution_count": 56,
   "metadata": {},
   "outputs": [],
   "source": [
    "import numpy as np\n",
    "import pandas as pd"
   ]
  },
  {
   "cell_type": "markdown",
   "metadata": {},
   "source": [
    "# Estruturas básicas de dados em pandas\n",
    "\n",
    "O Pandas fornece dois tipos de classes para manipulação de dados:\n",
    "\n",
    "1. **Series:**  \n",
    "  - Uma matriz rotulada unidimensional que contém dados de qualquer tipo como inteiros, strings, objetos Python etc.\n",
    "\n",
    "2. **DataFrame:** \n",
    "  - Uma estrutura de dados bidimensional que contém dados como uma matriz bidimensional ou uma tabela com linhas e colunas."
   ]
  },
  {
   "cell_type": "markdown",
   "metadata": {},
   "source": [
    "# Criação de objeto "
   ]
  },
  {
   "cell_type": "markdown",
   "metadata": {},
   "source": [
    "[Veja a seção Introdução às estruturas de dados .](Intro_to_data_structures.ipynb)\n",
    "\n",
    "- Criando um Seriespassando uma lista de valores, permitindo que o pandas crie um padrão RangeIndex."
   ]
  },
  {
   "cell_type": "code",
   "execution_count": 57,
   "metadata": {},
   "outputs": [
    {
     "data": {
      "text/plain": [
       "0    1.0\n",
       "1    3.0\n",
       "2    5.0\n",
       "3    NaN\n",
       "4    6.0\n",
       "5    8.0\n",
       "dtype: float64"
      ]
     },
     "metadata": {},
     "output_type": "display_data"
    }
   ],
   "source": [
    "s = pd.Series([1,3,5,np.nan,6,8])\n",
    "display(s)"
   ]
  },
  {
   "cell_type": "markdown",
   "metadata": {},
   "source": [
    "- Criando DataFrameum array NumPy passando um índice datetime usando date_range() colunas rotuladas e :"
   ]
  },
  {
   "cell_type": "code",
   "execution_count": 58,
   "metadata": {},
   "outputs": [
    {
     "data": {
      "text/plain": [
       "DatetimeIndex(['2013-01-01', '2013-01-02', '2013-01-03', '2013-01-04',\n",
       "               '2013-01-05', '2013-01-06'],\n",
       "              dtype='datetime64[ns]', freq='D')"
      ]
     },
     "metadata": {},
     "output_type": "display_data"
    },
    {
     "data": {
      "text/html": [
       "<div>\n",
       "<style scoped>\n",
       "    .dataframe tbody tr th:only-of-type {\n",
       "        vertical-align: middle;\n",
       "    }\n",
       "\n",
       "    .dataframe tbody tr th {\n",
       "        vertical-align: top;\n",
       "    }\n",
       "\n",
       "    .dataframe thead th {\n",
       "        text-align: right;\n",
       "    }\n",
       "</style>\n",
       "<table border=\"1\" class=\"dataframe\">\n",
       "  <thead>\n",
       "    <tr style=\"text-align: right;\">\n",
       "      <th></th>\n",
       "      <th>A</th>\n",
       "      <th>B</th>\n",
       "      <th>C</th>\n",
       "      <th>D</th>\n",
       "    </tr>\n",
       "  </thead>\n",
       "  <tbody>\n",
       "    <tr>\n",
       "      <th>2013-01-01</th>\n",
       "      <td>0.050611</td>\n",
       "      <td>0.215956</td>\n",
       "      <td>0.453060</td>\n",
       "      <td>1.007216</td>\n",
       "    </tr>\n",
       "    <tr>\n",
       "      <th>2013-01-02</th>\n",
       "      <td>-0.029879</td>\n",
       "      <td>-0.964668</td>\n",
       "      <td>1.034395</td>\n",
       "      <td>-0.119978</td>\n",
       "    </tr>\n",
       "    <tr>\n",
       "      <th>2013-01-03</th>\n",
       "      <td>0.855928</td>\n",
       "      <td>-0.447104</td>\n",
       "      <td>0.019303</td>\n",
       "      <td>0.000129</td>\n",
       "    </tr>\n",
       "    <tr>\n",
       "      <th>2013-01-04</th>\n",
       "      <td>-0.218260</td>\n",
       "      <td>-0.539400</td>\n",
       "      <td>0.238007</td>\n",
       "      <td>0.836796</td>\n",
       "    </tr>\n",
       "    <tr>\n",
       "      <th>2013-01-05</th>\n",
       "      <td>-0.000812</td>\n",
       "      <td>0.573812</td>\n",
       "      <td>0.383736</td>\n",
       "      <td>1.239562</td>\n",
       "    </tr>\n",
       "    <tr>\n",
       "      <th>2013-01-06</th>\n",
       "      <td>0.394430</td>\n",
       "      <td>-0.371078</td>\n",
       "      <td>0.010284</td>\n",
       "      <td>-0.101700</td>\n",
       "    </tr>\n",
       "  </tbody>\n",
       "</table>\n",
       "</div>"
      ],
      "text/plain": [
       "                   A         B         C         D\n",
       "2013-01-01  0.050611  0.215956  0.453060  1.007216\n",
       "2013-01-02 -0.029879 -0.964668  1.034395 -0.119978\n",
       "2013-01-03  0.855928 -0.447104  0.019303  0.000129\n",
       "2013-01-04 -0.218260 -0.539400  0.238007  0.836796\n",
       "2013-01-05 -0.000812  0.573812  0.383736  1.239562\n",
       "2013-01-06  0.394430 -0.371078  0.010284 -0.101700"
      ]
     },
     "metadata": {},
     "output_type": "display_data"
    }
   ],
   "source": [
    "\"\"\" date_range = Intervalo de Datas \"\"\"\n",
    "\n",
    "dates = pd.date_range(\"20130101\",periods=6)\n",
    "display(dates)\n",
    "\n",
    "df = pd.DataFrame(np.random.randn(6,4),index=dates,columns=list(\"ABCD\"))\n",
    "display(df)"
   ]
  },
  {
   "cell_type": "markdown",
   "metadata": {},
   "source": [
    "- Criando um DataFrame passando um dicionário de objetos onde as chaves são os rótulos das colunas e os valores são os valores das colunas."
   ]
  },
  {
   "cell_type": "code",
   "execution_count": 59,
   "metadata": {},
   "outputs": [
    {
     "data": {
      "text/html": [
       "<div>\n",
       "<style scoped>\n",
       "    .dataframe tbody tr th:only-of-type {\n",
       "        vertical-align: middle;\n",
       "    }\n",
       "\n",
       "    .dataframe tbody tr th {\n",
       "        vertical-align: top;\n",
       "    }\n",
       "\n",
       "    .dataframe thead th {\n",
       "        text-align: right;\n",
       "    }\n",
       "</style>\n",
       "<table border=\"1\" class=\"dataframe\">\n",
       "  <thead>\n",
       "    <tr style=\"text-align: right;\">\n",
       "      <th></th>\n",
       "      <th>A</th>\n",
       "      <th>B</th>\n",
       "      <th>C</th>\n",
       "      <th>D</th>\n",
       "      <th>E</th>\n",
       "      <th>F</th>\n",
       "    </tr>\n",
       "  </thead>\n",
       "  <tbody>\n",
       "    <tr>\n",
       "      <th>0</th>\n",
       "      <td>1.0</td>\n",
       "      <td>2013-01-02</td>\n",
       "      <td>1.0</td>\n",
       "      <td>3</td>\n",
       "      <td>test</td>\n",
       "      <td>foo</td>\n",
       "    </tr>\n",
       "    <tr>\n",
       "      <th>1</th>\n",
       "      <td>1.0</td>\n",
       "      <td>2013-01-02</td>\n",
       "      <td>1.0</td>\n",
       "      <td>3</td>\n",
       "      <td>train</td>\n",
       "      <td>foo</td>\n",
       "    </tr>\n",
       "    <tr>\n",
       "      <th>2</th>\n",
       "      <td>1.0</td>\n",
       "      <td>2013-01-02</td>\n",
       "      <td>1.0</td>\n",
       "      <td>3</td>\n",
       "      <td>test</td>\n",
       "      <td>foo</td>\n",
       "    </tr>\n",
       "    <tr>\n",
       "      <th>3</th>\n",
       "      <td>1.0</td>\n",
       "      <td>2013-01-02</td>\n",
       "      <td>1.0</td>\n",
       "      <td>3</td>\n",
       "      <td>train</td>\n",
       "      <td>foo</td>\n",
       "    </tr>\n",
       "  </tbody>\n",
       "</table>\n",
       "</div>"
      ],
      "text/plain": [
       "     A          B    C  D      E    F\n",
       "0  1.0 2013-01-02  1.0  3   test  foo\n",
       "1  1.0 2013-01-02  1.0  3  train  foo\n",
       "2  1.0 2013-01-02  1.0  3   test  foo\n",
       "3  1.0 2013-01-02  1.0  3  train  foo"
      ]
     },
     "metadata": {},
     "output_type": "display_data"
    }
   ],
   "source": [
    "df2 = pd.DataFrame(\n",
    "    {\n",
    "        \"A\": 1.0, # Contém um valor constante 1.0 (float) para todas as linhas.\n",
    "        \"B\": pd.Timestamp(\"20130102\"), #Um timestamp com a mesma data em todas as linhas.\n",
    "        \"C\": pd.Series(1, index=list(range(4)), dtype=\"float32\"), #Uma Series de 4 elementos com valor 1 e tipo float32.\n",
    "        \"D\": np.array([3] * 4, dtype=\"int32\"), #Um array NumPy com quatro elementos iguais a 3 e tipo int32.\n",
    "        \"E\": pd.Categorical([\"test\", \"train\", \"test\", \"train\"]), # Uma categoria com valores repetidos: \"test\" e \"train\". \n",
    "        \"F\": \"foo\",\n",
    "    }\n",
    ")\n",
    "\n",
    "display(df2)\n"
   ]
  },
  {
   "cell_type": "markdown",
   "metadata": {},
   "source": [
    "- As colunas resultantes DataFrametêm diferentes dtypes :"
   ]
  },
  {
   "cell_type": "code",
   "execution_count": 60,
   "metadata": {},
   "outputs": [
    {
     "data": {
      "text/plain": [
       "A          float64\n",
       "B    datetime64[s]\n",
       "C          float32\n",
       "D            int32\n",
       "E         category\n",
       "F           object\n",
       "dtype: object"
      ]
     },
     "metadata": {},
     "output_type": "display_data"
    }
   ],
   "source": [
    "display(df2.dtypes)"
   ]
  },
  {
   "cell_type": "markdown",
   "metadata": {},
   "source": [
    "# Visualizando dados \n",
    "[Veja a seção Funcionalidade básica .](Essential_basic_functionality.ipynb)\n",
    "\n",
    "- Use DataFrame.head()e DataFrame.tail()para visualizar as linhas superior e inferior do quadro, respectivamente:"
   ]
  },
  {
   "cell_type": "code",
   "execution_count": 61,
   "metadata": {},
   "outputs": [
    {
     "data": {
      "text/html": [
       "<div>\n",
       "<style scoped>\n",
       "    .dataframe tbody tr th:only-of-type {\n",
       "        vertical-align: middle;\n",
       "    }\n",
       "\n",
       "    .dataframe tbody tr th {\n",
       "        vertical-align: top;\n",
       "    }\n",
       "\n",
       "    .dataframe thead th {\n",
       "        text-align: right;\n",
       "    }\n",
       "</style>\n",
       "<table border=\"1\" class=\"dataframe\">\n",
       "  <thead>\n",
       "    <tr style=\"text-align: right;\">\n",
       "      <th></th>\n",
       "      <th>A</th>\n",
       "      <th>B</th>\n",
       "      <th>C</th>\n",
       "      <th>D</th>\n",
       "    </tr>\n",
       "  </thead>\n",
       "  <tbody>\n",
       "    <tr>\n",
       "      <th>2013-01-01</th>\n",
       "      <td>0.050611</td>\n",
       "      <td>0.215956</td>\n",
       "      <td>0.453060</td>\n",
       "      <td>1.007216</td>\n",
       "    </tr>\n",
       "    <tr>\n",
       "      <th>2013-01-02</th>\n",
       "      <td>-0.029879</td>\n",
       "      <td>-0.964668</td>\n",
       "      <td>1.034395</td>\n",
       "      <td>-0.119978</td>\n",
       "    </tr>\n",
       "    <tr>\n",
       "      <th>2013-01-03</th>\n",
       "      <td>0.855928</td>\n",
       "      <td>-0.447104</td>\n",
       "      <td>0.019303</td>\n",
       "      <td>0.000129</td>\n",
       "    </tr>\n",
       "    <tr>\n",
       "      <th>2013-01-04</th>\n",
       "      <td>-0.218260</td>\n",
       "      <td>-0.539400</td>\n",
       "      <td>0.238007</td>\n",
       "      <td>0.836796</td>\n",
       "    </tr>\n",
       "    <tr>\n",
       "      <th>2013-01-05</th>\n",
       "      <td>-0.000812</td>\n",
       "      <td>0.573812</td>\n",
       "      <td>0.383736</td>\n",
       "      <td>1.239562</td>\n",
       "    </tr>\n",
       "  </tbody>\n",
       "</table>\n",
       "</div>"
      ],
      "text/plain": [
       "                   A         B         C         D\n",
       "2013-01-01  0.050611  0.215956  0.453060  1.007216\n",
       "2013-01-02 -0.029879 -0.964668  1.034395 -0.119978\n",
       "2013-01-03  0.855928 -0.447104  0.019303  0.000129\n",
       "2013-01-04 -0.218260 -0.539400  0.238007  0.836796\n",
       "2013-01-05 -0.000812  0.573812  0.383736  1.239562"
      ]
     },
     "execution_count": 61,
     "metadata": {},
     "output_type": "execute_result"
    }
   ],
   "source": [
    "df.head()"
   ]
  },
  {
   "cell_type": "code",
   "execution_count": 62,
   "metadata": {},
   "outputs": [
    {
     "data": {
      "text/html": [
       "<div>\n",
       "<style scoped>\n",
       "    .dataframe tbody tr th:only-of-type {\n",
       "        vertical-align: middle;\n",
       "    }\n",
       "\n",
       "    .dataframe tbody tr th {\n",
       "        vertical-align: top;\n",
       "    }\n",
       "\n",
       "    .dataframe thead th {\n",
       "        text-align: right;\n",
       "    }\n",
       "</style>\n",
       "<table border=\"1\" class=\"dataframe\">\n",
       "  <thead>\n",
       "    <tr style=\"text-align: right;\">\n",
       "      <th></th>\n",
       "      <th>A</th>\n",
       "      <th>B</th>\n",
       "      <th>C</th>\n",
       "      <th>D</th>\n",
       "    </tr>\n",
       "  </thead>\n",
       "  <tbody>\n",
       "    <tr>\n",
       "      <th>2013-01-04</th>\n",
       "      <td>-0.218260</td>\n",
       "      <td>-0.539400</td>\n",
       "      <td>0.238007</td>\n",
       "      <td>0.836796</td>\n",
       "    </tr>\n",
       "    <tr>\n",
       "      <th>2013-01-05</th>\n",
       "      <td>-0.000812</td>\n",
       "      <td>0.573812</td>\n",
       "      <td>0.383736</td>\n",
       "      <td>1.239562</td>\n",
       "    </tr>\n",
       "    <tr>\n",
       "      <th>2013-01-06</th>\n",
       "      <td>0.394430</td>\n",
       "      <td>-0.371078</td>\n",
       "      <td>0.010284</td>\n",
       "      <td>-0.101700</td>\n",
       "    </tr>\n",
       "  </tbody>\n",
       "</table>\n",
       "</div>"
      ],
      "text/plain": [
       "                   A         B         C         D\n",
       "2013-01-04 -0.218260 -0.539400  0.238007  0.836796\n",
       "2013-01-05 -0.000812  0.573812  0.383736  1.239562\n",
       "2013-01-06  0.394430 -0.371078  0.010284 -0.101700"
      ]
     },
     "execution_count": 62,
     "metadata": {},
     "output_type": "execute_result"
    }
   ],
   "source": [
    "df.tail(3)"
   ]
  },
  {
   "cell_type": "markdown",
   "metadata": {},
   "source": [
    "- Exibir DataFrame.indexou DataFrame.columns:"
   ]
  },
  {
   "cell_type": "code",
   "execution_count": 63,
   "metadata": {},
   "outputs": [
    {
     "data": {
      "text/plain": [
       "DatetimeIndex(['2013-01-01', '2013-01-02', '2013-01-03', '2013-01-04',\n",
       "               '2013-01-05', '2013-01-06'],\n",
       "              dtype='datetime64[ns]', freq='D')"
      ]
     },
     "metadata": {},
     "output_type": "display_data"
    }
   ],
   "source": [
    "display(df.index)"
   ]
  },
  {
   "cell_type": "code",
   "execution_count": 64,
   "metadata": {},
   "outputs": [
    {
     "data": {
      "text/plain": [
       "Index(['A', 'B', 'C', 'D'], dtype='object')"
      ]
     },
     "metadata": {},
     "output_type": "display_data"
    }
   ],
   "source": [
    "display(df.columns)"
   ]
  },
  {
   "cell_type": "markdown",
   "metadata": {},
   "source": [
    "- Retorna uma representação NumPy dos dados subjacentes sem DataFrame.to_numpy() os rótulos de índice ou coluna:"
   ]
  },
  {
   "cell_type": "code",
   "execution_count": 65,
   "metadata": {},
   "outputs": [
    {
     "data": {
      "text/plain": [
       "array([[ 5.06114575e-02,  2.15956198e-01,  4.53060487e-01,\n",
       "         1.00721604e+00],\n",
       "       [-2.98789691e-02, -9.64667631e-01,  1.03439527e+00,\n",
       "        -1.19977930e-01],\n",
       "       [ 8.55927524e-01, -4.47104449e-01,  1.93029753e-02,\n",
       "         1.29411005e-04],\n",
       "       [-2.18260261e-01, -5.39400260e-01,  2.38007097e-01,\n",
       "         8.36795948e-01],\n",
       "       [-8.11945889e-04,  5.73811986e-01,  3.83736211e-01,\n",
       "         1.23956236e+00],\n",
       "       [ 3.94429822e-01, -3.71078224e-01,  1.02836869e-02,\n",
       "        -1.01700379e-01]])"
      ]
     },
     "execution_count": 65,
     "metadata": {},
     "output_type": "execute_result"
    }
   ],
   "source": [
    "df.to_numpy()"
   ]
  },
  {
   "cell_type": "markdown",
   "metadata": {},
   "source": [
    "* Observação\n",
    "\n",
    "    Os arrays NumPy têm um dtype para o array inteiro, enquanto os DataFrames pandas têm um dtype por coluna .  \n",
    "    Quando você chama DataFrame.to_numpy(), o pandas encontrará o dtype NumPy que pode conter todos os dtypes no DataFrame.   \n",
    "    Se o tipo de dado comum for object, DataFrame.to_numpy() será necessário copiar os dados."
   ]
  },
  {
   "cell_type": "code",
   "execution_count": 66,
   "metadata": {},
   "outputs": [
    {
     "data": {
      "text/plain": [
       "A          float64\n",
       "B    datetime64[s]\n",
       "C          float32\n",
       "D            int32\n",
       "E         category\n",
       "F           object\n",
       "dtype: object"
      ]
     },
     "execution_count": 66,
     "metadata": {},
     "output_type": "execute_result"
    }
   ],
   "source": [
    "df2.dtypes"
   ]
  },
  {
   "cell_type": "code",
   "execution_count": 67,
   "metadata": {},
   "outputs": [
    {
     "data": {
      "text/plain": [
       "array([[1.0, Timestamp('2013-01-02 00:00:00'), 1.0, 3, 'test', 'foo'],\n",
       "       [1.0, Timestamp('2013-01-02 00:00:00'), 1.0, 3, 'train', 'foo'],\n",
       "       [1.0, Timestamp('2013-01-02 00:00:00'), 1.0, 3, 'test', 'foo'],\n",
       "       [1.0, Timestamp('2013-01-02 00:00:00'), 1.0, 3, 'train', 'foo']],\n",
       "      dtype=object)"
      ]
     },
     "execution_count": 67,
     "metadata": {},
     "output_type": "execute_result"
    }
   ],
   "source": [
    "df2.to_numpy()"
   ]
  },
  {
   "cell_type": "markdown",
   "metadata": {},
   "source": [
    "- describe()mostra um rápido resumo estatístico dos seus dados:"
   ]
  },
  {
   "cell_type": "code",
   "execution_count": 68,
   "metadata": {},
   "outputs": [
    {
     "data": {
      "text/html": [
       "<div>\n",
       "<style scoped>\n",
       "    .dataframe tbody tr th:only-of-type {\n",
       "        vertical-align: middle;\n",
       "    }\n",
       "\n",
       "    .dataframe tbody tr th {\n",
       "        vertical-align: top;\n",
       "    }\n",
       "\n",
       "    .dataframe thead th {\n",
       "        text-align: right;\n",
       "    }\n",
       "</style>\n",
       "<table border=\"1\" class=\"dataframe\">\n",
       "  <thead>\n",
       "    <tr style=\"text-align: right;\">\n",
       "      <th></th>\n",
       "      <th>A</th>\n",
       "      <th>B</th>\n",
       "      <th>C</th>\n",
       "      <th>D</th>\n",
       "    </tr>\n",
       "  </thead>\n",
       "  <tbody>\n",
       "    <tr>\n",
       "      <th>count</th>\n",
       "      <td>6.000000</td>\n",
       "      <td>6.000000</td>\n",
       "      <td>6.000000</td>\n",
       "      <td>6.000000</td>\n",
       "    </tr>\n",
       "    <tr>\n",
       "      <th>mean</th>\n",
       "      <td>0.175336</td>\n",
       "      <td>-0.255414</td>\n",
       "      <td>0.356464</td>\n",
       "      <td>0.477004</td>\n",
       "    </tr>\n",
       "    <tr>\n",
       "      <th>std</th>\n",
       "      <td>0.388541</td>\n",
       "      <td>0.555629</td>\n",
       "      <td>0.378739</td>\n",
       "      <td>0.618185</td>\n",
       "    </tr>\n",
       "    <tr>\n",
       "      <th>min</th>\n",
       "      <td>-0.218260</td>\n",
       "      <td>-0.964668</td>\n",
       "      <td>0.010284</td>\n",
       "      <td>-0.119978</td>\n",
       "    </tr>\n",
       "    <tr>\n",
       "      <th>25%</th>\n",
       "      <td>-0.022612</td>\n",
       "      <td>-0.516326</td>\n",
       "      <td>0.073979</td>\n",
       "      <td>-0.076243</td>\n",
       "    </tr>\n",
       "    <tr>\n",
       "      <th>50%</th>\n",
       "      <td>0.024900</td>\n",
       "      <td>-0.409091</td>\n",
       "      <td>0.310872</td>\n",
       "      <td>0.418463</td>\n",
       "    </tr>\n",
       "    <tr>\n",
       "      <th>75%</th>\n",
       "      <td>0.308475</td>\n",
       "      <td>0.069198</td>\n",
       "      <td>0.435729</td>\n",
       "      <td>0.964611</td>\n",
       "    </tr>\n",
       "    <tr>\n",
       "      <th>max</th>\n",
       "      <td>0.855928</td>\n",
       "      <td>0.573812</td>\n",
       "      <td>1.034395</td>\n",
       "      <td>1.239562</td>\n",
       "    </tr>\n",
       "  </tbody>\n",
       "</table>\n",
       "</div>"
      ],
      "text/plain": [
       "              A         B         C         D\n",
       "count  6.000000  6.000000  6.000000  6.000000\n",
       "mean   0.175336 -0.255414  0.356464  0.477004\n",
       "std    0.388541  0.555629  0.378739  0.618185\n",
       "min   -0.218260 -0.964668  0.010284 -0.119978\n",
       "25%   -0.022612 -0.516326  0.073979 -0.076243\n",
       "50%    0.024900 -0.409091  0.310872  0.418463\n",
       "75%    0.308475  0.069198  0.435729  0.964611\n",
       "max    0.855928  0.573812  1.034395  1.239562"
      ]
     },
     "execution_count": 68,
     "metadata": {},
     "output_type": "execute_result"
    }
   ],
   "source": [
    "df.describe()"
   ]
  },
  {
   "cell_type": "markdown",
   "metadata": {},
   "source": [
    "- Transpondo seus dados: Colunas - > Indices e Indices - > Colunas"
   ]
  },
  {
   "cell_type": "code",
   "execution_count": 69,
   "metadata": {},
   "outputs": [
    {
     "data": {
      "text/html": [
       "<div>\n",
       "<style scoped>\n",
       "    .dataframe tbody tr th:only-of-type {\n",
       "        vertical-align: middle;\n",
       "    }\n",
       "\n",
       "    .dataframe tbody tr th {\n",
       "        vertical-align: top;\n",
       "    }\n",
       "\n",
       "    .dataframe thead th {\n",
       "        text-align: right;\n",
       "    }\n",
       "</style>\n",
       "<table border=\"1\" class=\"dataframe\">\n",
       "  <thead>\n",
       "    <tr style=\"text-align: right;\">\n",
       "      <th></th>\n",
       "      <th>2013-01-01</th>\n",
       "      <th>2013-01-02</th>\n",
       "      <th>2013-01-03</th>\n",
       "      <th>2013-01-04</th>\n",
       "      <th>2013-01-05</th>\n",
       "      <th>2013-01-06</th>\n",
       "    </tr>\n",
       "  </thead>\n",
       "  <tbody>\n",
       "    <tr>\n",
       "      <th>A</th>\n",
       "      <td>0.050611</td>\n",
       "      <td>-0.029879</td>\n",
       "      <td>0.855928</td>\n",
       "      <td>-0.218260</td>\n",
       "      <td>-0.000812</td>\n",
       "      <td>0.394430</td>\n",
       "    </tr>\n",
       "    <tr>\n",
       "      <th>B</th>\n",
       "      <td>0.215956</td>\n",
       "      <td>-0.964668</td>\n",
       "      <td>-0.447104</td>\n",
       "      <td>-0.539400</td>\n",
       "      <td>0.573812</td>\n",
       "      <td>-0.371078</td>\n",
       "    </tr>\n",
       "    <tr>\n",
       "      <th>C</th>\n",
       "      <td>0.453060</td>\n",
       "      <td>1.034395</td>\n",
       "      <td>0.019303</td>\n",
       "      <td>0.238007</td>\n",
       "      <td>0.383736</td>\n",
       "      <td>0.010284</td>\n",
       "    </tr>\n",
       "    <tr>\n",
       "      <th>D</th>\n",
       "      <td>1.007216</td>\n",
       "      <td>-0.119978</td>\n",
       "      <td>0.000129</td>\n",
       "      <td>0.836796</td>\n",
       "      <td>1.239562</td>\n",
       "      <td>-0.101700</td>\n",
       "    </tr>\n",
       "  </tbody>\n",
       "</table>\n",
       "</div>"
      ],
      "text/plain": [
       "   2013-01-01  2013-01-02  2013-01-03  2013-01-04  2013-01-05  2013-01-06\n",
       "A    0.050611   -0.029879    0.855928   -0.218260   -0.000812    0.394430\n",
       "B    0.215956   -0.964668   -0.447104   -0.539400    0.573812   -0.371078\n",
       "C    0.453060    1.034395    0.019303    0.238007    0.383736    0.010284\n",
       "D    1.007216   -0.119978    0.000129    0.836796    1.239562   -0.101700"
      ]
     },
     "metadata": {},
     "output_type": "display_data"
    }
   ],
   "source": [
    "display(df.T)"
   ]
  },
  {
   "cell_type": "markdown",
   "metadata": {},
   "source": [
    "- DataFrame.sort_index()classifica por um eixo:  \n",
    "    Retorna um novo DataFrame classificado por rótulo se o argumento inplace for False, caso contrário, atualiza o DataFrame original e retorna None."
   ]
  },
  {
   "cell_type": "code",
   "execution_count": 74,
   "metadata": {},
   "outputs": [
    {
     "data": {
      "text/html": [
       "<div>\n",
       "<style scoped>\n",
       "    .dataframe tbody tr th:only-of-type {\n",
       "        vertical-align: middle;\n",
       "    }\n",
       "\n",
       "    .dataframe tbody tr th {\n",
       "        vertical-align: top;\n",
       "    }\n",
       "\n",
       "    .dataframe thead th {\n",
       "        text-align: right;\n",
       "    }\n",
       "</style>\n",
       "<table border=\"1\" class=\"dataframe\">\n",
       "  <thead>\n",
       "    <tr style=\"text-align: right;\">\n",
       "      <th></th>\n",
       "      <th>D</th>\n",
       "      <th>C</th>\n",
       "      <th>B</th>\n",
       "      <th>A</th>\n",
       "    </tr>\n",
       "  </thead>\n",
       "  <tbody>\n",
       "    <tr>\n",
       "      <th>2013-01-01</th>\n",
       "      <td>1.007216</td>\n",
       "      <td>0.453060</td>\n",
       "      <td>0.215956</td>\n",
       "      <td>0.050611</td>\n",
       "    </tr>\n",
       "    <tr>\n",
       "      <th>2013-01-02</th>\n",
       "      <td>-0.119978</td>\n",
       "      <td>1.034395</td>\n",
       "      <td>-0.964668</td>\n",
       "      <td>-0.029879</td>\n",
       "    </tr>\n",
       "    <tr>\n",
       "      <th>2013-01-03</th>\n",
       "      <td>0.000129</td>\n",
       "      <td>0.019303</td>\n",
       "      <td>-0.447104</td>\n",
       "      <td>0.855928</td>\n",
       "    </tr>\n",
       "    <tr>\n",
       "      <th>2013-01-04</th>\n",
       "      <td>0.836796</td>\n",
       "      <td>0.238007</td>\n",
       "      <td>-0.539400</td>\n",
       "      <td>-0.218260</td>\n",
       "    </tr>\n",
       "    <tr>\n",
       "      <th>2013-01-05</th>\n",
       "      <td>1.239562</td>\n",
       "      <td>0.383736</td>\n",
       "      <td>0.573812</td>\n",
       "      <td>-0.000812</td>\n",
       "    </tr>\n",
       "    <tr>\n",
       "      <th>2013-01-06</th>\n",
       "      <td>-0.101700</td>\n",
       "      <td>0.010284</td>\n",
       "      <td>-0.371078</td>\n",
       "      <td>0.394430</td>\n",
       "    </tr>\n",
       "  </tbody>\n",
       "</table>\n",
       "</div>"
      ],
      "text/plain": [
       "                   D         C         B         A\n",
       "2013-01-01  1.007216  0.453060  0.215956  0.050611\n",
       "2013-01-02 -0.119978  1.034395 -0.964668 -0.029879\n",
       "2013-01-03  0.000129  0.019303 -0.447104  0.855928\n",
       "2013-01-04  0.836796  0.238007 -0.539400 -0.218260\n",
       "2013-01-05  1.239562  0.383736  0.573812 -0.000812\n",
       "2013-01-06 -0.101700  0.010284 -0.371078  0.394430"
      ]
     },
     "metadata": {},
     "output_type": "display_data"
    }
   ],
   "source": [
    "display(df.sort_index(axis=1, ascending=False))"
   ]
  },
  {
   "cell_type": "markdown",
   "metadata": {},
   "source": [
    "- DataFrame.sort_values()classifica por valores:"
   ]
  },
  {
   "cell_type": "code",
   "execution_count": 77,
   "metadata": {},
   "outputs": [
    {
     "data": {
      "text/html": [
       "<div>\n",
       "<style scoped>\n",
       "    .dataframe tbody tr th:only-of-type {\n",
       "        vertical-align: middle;\n",
       "    }\n",
       "\n",
       "    .dataframe tbody tr th {\n",
       "        vertical-align: top;\n",
       "    }\n",
       "\n",
       "    .dataframe thead th {\n",
       "        text-align: right;\n",
       "    }\n",
       "</style>\n",
       "<table border=\"1\" class=\"dataframe\">\n",
       "  <thead>\n",
       "    <tr style=\"text-align: right;\">\n",
       "      <th></th>\n",
       "      <th>A</th>\n",
       "      <th>B</th>\n",
       "      <th>C</th>\n",
       "      <th>D</th>\n",
       "    </tr>\n",
       "  </thead>\n",
       "  <tbody>\n",
       "    <tr>\n",
       "      <th>2013-01-02</th>\n",
       "      <td>-0.029879</td>\n",
       "      <td>-0.964668</td>\n",
       "      <td>1.034395</td>\n",
       "      <td>-0.119978</td>\n",
       "    </tr>\n",
       "    <tr>\n",
       "      <th>2013-01-04</th>\n",
       "      <td>-0.218260</td>\n",
       "      <td>-0.539400</td>\n",
       "      <td>0.238007</td>\n",
       "      <td>0.836796</td>\n",
       "    </tr>\n",
       "    <tr>\n",
       "      <th>2013-01-03</th>\n",
       "      <td>0.855928</td>\n",
       "      <td>-0.447104</td>\n",
       "      <td>0.019303</td>\n",
       "      <td>0.000129</td>\n",
       "    </tr>\n",
       "    <tr>\n",
       "      <th>2013-01-06</th>\n",
       "      <td>0.394430</td>\n",
       "      <td>-0.371078</td>\n",
       "      <td>0.010284</td>\n",
       "      <td>-0.101700</td>\n",
       "    </tr>\n",
       "    <tr>\n",
       "      <th>2013-01-01</th>\n",
       "      <td>0.050611</td>\n",
       "      <td>0.215956</td>\n",
       "      <td>0.453060</td>\n",
       "      <td>1.007216</td>\n",
       "    </tr>\n",
       "    <tr>\n",
       "      <th>2013-01-05</th>\n",
       "      <td>-0.000812</td>\n",
       "      <td>0.573812</td>\n",
       "      <td>0.383736</td>\n",
       "      <td>1.239562</td>\n",
       "    </tr>\n",
       "  </tbody>\n",
       "</table>\n",
       "</div>"
      ],
      "text/plain": [
       "                   A         B         C         D\n",
       "2013-01-02 -0.029879 -0.964668  1.034395 -0.119978\n",
       "2013-01-04 -0.218260 -0.539400  0.238007  0.836796\n",
       "2013-01-03  0.855928 -0.447104  0.019303  0.000129\n",
       "2013-01-06  0.394430 -0.371078  0.010284 -0.101700\n",
       "2013-01-01  0.050611  0.215956  0.453060  1.007216\n",
       "2013-01-05 -0.000812  0.573812  0.383736  1.239562"
      ]
     },
     "metadata": {},
     "output_type": "display_data"
    }
   ],
   "source": [
    "display(df.sort_values(by = \"B\"))"
   ]
  },
  {
   "cell_type": "markdown",
   "metadata": {},
   "source": [
    "# Seleção\n",
    "\n",
    "- Observação :  \n",
    "Embora as expressões padrão Python/NumPy para seleção e configuração sejam intuitivas e úteis para trabalho interativo,  \n",
    "para código de produção, recomendamos os métodos otimizados de acesso a dados do Pandas DataFrame.at(), DataFrame.iat(), DataFrame.loc()e DataFrame.iloc()."
   ]
  }
 ],
 "metadata": {
  "kernelspec": {
   "display_name": "Python 3",
   "language": "python",
   "name": "python3"
  },
  "language_info": {
   "codemirror_mode": {
    "name": "ipython",
    "version": 3
   },
   "file_extension": ".py",
   "mimetype": "text/x-python",
   "name": "python",
   "nbconvert_exporter": "python",
   "pygments_lexer": "ipython3",
   "version": "3.12.3"
  }
 },
 "nbformat": 4,
 "nbformat_minor": 2
}
